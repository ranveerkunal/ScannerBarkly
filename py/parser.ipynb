{
 "metadata": {
  "language_info": {
   "codemirror_mode": {
    "name": "ipython",
    "version": 3
   },
   "file_extension": ".py",
   "mimetype": "text/x-python",
   "name": "python",
   "nbconvert_exporter": "python",
   "pygments_lexer": "ipython3",
   "version": "3.8.8"
  },
  "orig_nbformat": 2,
  "kernelspec": {
   "name": "python388jvsc74a57bd021fb8bbaddb034d570e389b410cfd001a248506d464ed4e39dcb736ff5523a39",
   "display_name": "Python 3.8.8 64-bit ('py3d8': conda)"
  }
 },
 "nbformat": 4,
 "nbformat_minor": 2,
 "cells": [
  {
   "source": [
    "The Intelligence of Dogs"
   ],
   "cell_type": "markdown",
   "metadata": {}
  },
  {
   "cell_type": "code",
   "execution_count": null,
   "metadata": {},
   "outputs": [],
   "source": [
    "from collections import namedtuple\n",
    "import pathlib\n",
    "from pyquery import PyQuery as pq\n",
    "from urllib import parse\n",
    "\n",
    "# Wikipedia en domain.\n",
    "WIKI = 'https://en.wikipedia.org'\n",
    "\n",
    "# Intelligence tier rank thresholds.\n",
    "TIER_THRESH = [10, 31, 62, 104, 127, 138]\n",
    "\n",
    "# Breed of the dog.\n",
    "Breed = namedtuple('Breed', 'rank, name, tier, wiki, img, raw, proc')\n",
    "\n",
    "# Returns PyQuery object for wiki path p.\n",
    "def pq_wiki(p):\n",
    "    return pq(url=parse.urljoin(WIKI, p))\n",
    "\n",
    "# Returns the img src of the infobox image.\n",
    "def new_breed(rank, wiki):\n",
    "    doc = pq_wiki(wiki)\n",
    "    name = doc('#firstHeading').text()\n",
    "    img = doc('.infobox-image>a>img')[0].attrib['src']\n",
    "    fname = '{:0>3d}_{}'.format(rank, name.replace(' ', '_'))\n",
    "    raw = '{}{}'.format(fname, pathlib.Path(img).suffix)\n",
    "    proc = '{}.jpg'.format(fname)\n",
    "    tier = 0\n",
    "    for i, thresh in enumerate(TIER_THRESH):\n",
    "        if (rank <= thresh):\n",
    "            tier = len(TIER_THRESH) - i\n",
    "            break\n",
    "    return Breed(rank=rank, name=name, tier=tier, wiki=wiki, img=img, raw=raw, proc=proc)"
   ]
  },
  {
   "source": [
    "Read/Write breeds and raw images"
   ],
   "cell_type": "markdown",
   "metadata": {}
  },
  {
   "cell_type": "code",
   "execution_count": null,
   "metadata": {},
   "outputs": [],
   "source": [
    "import requests\n",
    "import simplejson\n",
    "\n",
    "def write_breeds(breeds):\n",
    "    f = open('breeds.json', 'w')\n",
    "    f.write(simplejson.dumps(breeds, indent=4*' '))\n",
    "    f.close()\n",
    "\n",
    "def read_breeds():\n",
    "    f = open('breeds.json', 'r')\n",
    "    return [Breed(**d) for d in simplejson.loads(f.read())]\n",
    "\n",
    "def download_raw(breeds):\n",
    "    for breed in breeds:\n",
    "        f = open('raw/{}'.format(breed.raw), \"wb\")\n",
    "        f.write(requests.get('https:{}'.format(breed.img)).content)\n",
    "        f.close()"
   ]
  },
  {
   "cell_type": "code",
   "execution_count": null,
   "metadata": {},
   "outputs": [],
   "source": [
    "# Fetch and parse the page.\n",
    "doc = pq_wiki('/wiki/The_Intelligence_of_Dogs')\n",
    "\n",
    "# Add 1 to the index to get rank.\n",
    "# Some wierd reason [17, 130] rank is [Collie, Mastiff] which is a type of dog. Skipping.\n",
    "skip = frozenset([17, 130])\n",
    "breeds = [new_breed(i+1, a.attrib['href']) for i, a in enumerate(doc('ol>li>a')) if i+1 not in skip]\n",
    "\n",
    "# Download raw images.\n",
    "download_raw(breeds)"
   ]
  },
  {
   "cell_type": "code",
   "execution_count": null,
   "metadata": {},
   "outputs": [],
   "source": [
    "write_breeds(breeds)\n",
    "# Just testing the read.\n",
    "breeds = read_breeds()"
   ]
  },
  {
   "source": [
    "Add frame to the images"
   ],
   "cell_type": "markdown",
   "metadata": {}
  },
  {
   "cell_type": "code",
   "execution_count": null,
   "metadata": {},
   "outputs": [],
   "source": [
    "from collections import Counter\n",
    "import cv2 as cv\n",
    "import numpy as np\n",
    "import random\n",
    "import pathlib\n",
    "import shutil\n",
    "from sklearn.cluster import KMeans\n",
    "\n",
    "# Returns BGR color.\n",
    "def color(color):\n",
    "    rgb = color[1:]\n",
    "    return [int(rgb[4:6], 16), int(rgb[2:4], 16), int(rgb[:2], 16)]\n",
    "\n",
    "# Scanner Darkly: red, oranga, yellow, green, blue, violet\n",
    "PALETTE = {1: color('#912318'), 2: color('#EE5D02'), 3: color('#E5ED3C'), 4: color('#80A82E'), 5:  color('#496BBC'), 6: color('#3B3559')}\n",
    "SIZE = 500\n",
    "BORDER = 32\n",
    "\n",
    "# Read the raw image and scale to size.\n",
    "def read_breed_raw(raw, size):\n",
    "    image = cv.imread('raw/{}'.format(raw), cv.IMREAD_COLOR)\n",
    "    scale = size/max(image.shape)\n",
    "    dim = (int(image.shape[1] * scale), int(image.shape[0] * scale))\n",
    "    return cv.resize(image, dim, interpolation=cv.INTER_LANCZOS4)\n",
    "\n",
    "# Add Scanner Darkly like effect.\n",
    "def scanner_darkly(image, blur, n_clusters, ribbon):\n",
    "    # Equalize histogra for Y.\n",
    "    image = cv.cvtColor(image, cv.COLOR_BGR2YUV)\n",
    "    image[:, :, 0] = cv.equalizeHist(image[:, :, 0])\n",
    "    image = cv.cvtColor(image, cv.COLOR_YUV2BGR)\n",
    "\n",
    "    # Smooth image.\n",
    "    image = cv.GaussianBlur(image, blur, cv.BORDER_WRAP)\n",
    "    (h, w) = image.shape[:2]\n",
    "    \n",
    "    # Quantize colors.\n",
    "    image = cv.cvtColor(image, cv.COLOR_BGR2LAB)\n",
    "    image = image.reshape((image.shape[0] * image.shape[1], 3))\n",
    "    clt = KMeans(n_clusters = n_clusters)\n",
    "    labels = clt.fit_predict(image)\n",
    "    quant = clt.cluster_centers_.astype('uint8')[labels]\n",
    "\n",
    "    # Add least common color as the background.\n",
    "    hist = Counter(labels).most_common()\n",
    "    labels = np.full((SIZE, SIZE), hist[n_clusters-1][0])\n",
    "    bg = clt.cluster_centers_.astype('uint8')[labels]\n",
    "    bg = bg.reshape((SIZE, SIZE, 3))\n",
    "    bg = cv.cvtColor(bg, cv.COLOR_LAB2BGR)\n",
    "\n",
    "    # Add the frame.\n",
    "    yoff = round(w/3)\n",
    "    xoff = round(h/3)\n",
    "    bg[yoff:yoff+BORDER, 0:SIZE] = np.full((BORDER, SIZE, 3), ribbon)\n",
    "    bg[0:SIZE, xoff:xoff+BORDER] = np.full((SIZE, BORDER, 3), ribbon)\n",
    "\n",
    "    # Write quantized image.\n",
    "    quant = quant.reshape((h, w, 3))\n",
    "    quant = cv.cvtColor(quant, cv.COLOR_LAB2BGR)\n",
    "\n",
    "    yoff = round((SIZE-h)/2)\n",
    "    xoff = round((SIZE-w)/2)\n",
    "    bg[yoff:yoff+h, xoff:xoff+w] = quant\n",
    "    \n",
    "    return bg\n",
    "\n",
    "# Process all breeds.\n",
    "def proc_breeds(breeds, num):\n",
    "    shutil.rmtree('proc')\n",
    "    pathlib.Path('proc').mkdir()\n",
    "    for breed in random.sample(breeds, num):\n",
    "        image = read_breed_raw(breed.raw, 420)\n",
    "        proc = scanner_darkly(image, (5, 5), 12, PALETTE[breed.tier])\n",
    "        cv.imwrite('proc/{}'.format(breed.proc), proc)"
   ]
  },
  {
   "cell_type": "code",
   "execution_count": null,
   "metadata": {},
   "outputs": [],
   "source": [
    "proc_breeds(breeds, len(breeds))"
   ]
  },
  {
   "source": [
    "Add Logo"
   ],
   "cell_type": "markdown",
   "metadata": {}
  },
  {
   "cell_type": "code",
   "execution_count": null,
   "metadata": {},
   "outputs": [],
   "source": [
    "def create_logo():\n",
    "    doc = pq_wiki('/wiki/Paw')\n",
    "    img = doc('.thumbinner>a>img')[0].attrib['src']\n",
    "    f = open('logo/raw.jpg', \"wb\")\n",
    "    f.write(requests.get('https:{}'.format(img)).content)\n",
    "    f.close()\n",
    "    image = cv.imread('logo/raw.jpg', cv.IMREAD_COLOR)\n",
    "    scale = 420/max(image.shape)\n",
    "    dim = (int(image.shape[1] * scale), int(image.shape[0] * scale))\n",
    "    image = cv.resize(image, dim, interpolation=cv.INTER_LANCZOS4)\n",
    "    proc = scanner_darkly(image, (5, 5), 12, [0, 0, 0])\n",
    "    cv.imwrite('logo/proc.jpg', proc)\n",
    "    logo_json = {'name': 'The Intelligence of Dogs', 'wiki': '/wiki/The_Intelligence_of_Dogs', 'img': img}\n",
    "    f = open('logo/meta.json', \"w\")\n",
    "    f.write(simplejson.dumps(logo_json, indent=4*' '))\n",
    "    f.close()"
   ]
  },
  {
   "cell_type": "code",
   "execution_count": null,
   "metadata": {},
   "outputs": [],
   "source": [
    "create_logo()"
   ]
  },
  {
   "source": [
    "Add Background"
   ],
   "cell_type": "markdown",
   "metadata": {}
  },
  {
   "cell_type": "code",
   "execution_count": null,
   "metadata": {},
   "outputs": [],
   "source": [
    "def create_bg():\n",
    "    doc = pq_wiki('/wiki/A_Scanner_Darkly_(film)')\n",
    "    img = doc('.infobox-image>a>img')[0].attrib['src']\n",
    "    f = open('bg/raw.jpg', \"wb\")\n",
    "    f.write(requests.get('https:{}'.format(img)).content)\n",
    "    f.close()\n",
    "    image = cv.imread('bg/raw.jpg', cv.IMREAD_COLOR)\n",
    "    scale = 420/max(image.shape)\n",
    "    dim = (int(image.shape[1] * scale), int(image.shape[0] * scale))\n",
    "    image = cv.resize(image, dim, interpolation=cv.INTER_LANCZOS4)\n",
    "    proc = scanner_darkly(image, (5, 5), 12, [255, 255, 255])\n",
    "    cv.imwrite('bg/proc.jpg', proc)\n",
    "    logo_json = {'name': 'A Scanner Darkly (film)', 'wiki': '/wiki/A_Scanner_Darkly_(film)', 'img': img}\n",
    "    f = open('bg/meta.json', \"w\")\n",
    "    f.write(simplejson.dumps(logo_json, indent=4*' '))\n",
    "    f.close()"
   ]
  },
  {
   "cell_type": "code",
   "execution_count": null,
   "metadata": {},
   "outputs": [],
   "source": [
    "create_bg()"
   ]
  },
  {
   "source": [
    "Debug"
   ],
   "cell_type": "markdown",
   "metadata": {}
  },
  {
   "cell_type": "code",
   "execution_count": null,
   "metadata": {},
   "outputs": [],
   "source": [
    "from matplotlib import pyplot as plt\n",
    "import pathlib\n",
    "\n",
    "f = plt.figure(figsize=(30,180))\n",
    "for i, p in enumerate(sorted(pathlib.Path('proc').iterdir())):\n",
    "    image = cv.imread(str(p), cv.IMREAD_COLOR)\n",
    "    f.add_subplot(30, 5, i+1)\n",
    "    plt.imshow(cv.cvtColor(image, cv.COLOR_BGR2RGB))\n",
    "    plt.title(str(p))\n",
    "    plt.axis('off')\n",
    "plt.show()"
   ]
  },
  {
   "cell_type": "code",
   "execution_count": null,
   "metadata": {},
   "outputs": [],
   "source": [
    "import json\n",
    "\n",
    "def pdesc(rank):\n",
    "    j = json.loads(simplejson.dumps(breeds[rank-1]))\n",
    "    del j['raw']\n",
    "    del j['proc']\n",
    "    print(j['name'])\n",
    "    print('```\\n{}\\n```'.format(simplejson.dumps(j, indent=4*' ')))"
   ]
  }
 ]
}