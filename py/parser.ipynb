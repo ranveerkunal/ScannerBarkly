{
 "metadata": {
  "language_info": {
   "codemirror_mode": {
    "name": "ipython",
    "version": 3
   },
   "file_extension": ".py",
   "mimetype": "text/x-python",
   "name": "python",
   "nbconvert_exporter": "python",
   "pygments_lexer": "ipython3",
   "version": "3.8.8"
  },
  "orig_nbformat": 2,
  "kernelspec": {
   "name": "python388jvsc74a57bd021fb8bbaddb034d570e389b410cfd001a248506d464ed4e39dcb736ff5523a39",
   "display_name": "Python 3.8.8 64-bit ('py3d8': conda)"
  }
 },
 "nbformat": 4,
 "nbformat_minor": 2,
 "cells": [
  {
   "source": [
    "The Intelligence of Dogs"
   ],
   "cell_type": "markdown",
   "metadata": {}
  },
  {
   "cell_type": "code",
   "execution_count": null,
   "metadata": {},
   "outputs": [],
   "source": [
    "%load_ext nb_black\n",
    "\n",
    "from collections import namedtuple\n",
    "import pathlib\n",
    "from pyquery import PyQuery as pq\n",
    "from urllib import parse\n",
    "\n",
    "# Wikipedia en domain.\n",
    "WIKI = 'https://en.wikipedia.org'\n",
    "\n",
    "# Intelligence tier rank thresholds.\n",
    "TIER_THRESH = [10, 31, 62, 104, 127, 138]\n",
    "\n",
    "# Breed of the dog.\n",
    "Breed = namedtuple('Breed', 'rank, name, tier, wiki, img, raw, proc')\n",
    "\n",
    "# Returns PyQuery object for wiki path p.\n",
    "def pq_wiki(p):\n",
    "    return pq(url=parse.urljoin(WIKI, p))\n",
    "\n",
    "# Returns the img src of the infobox image.\n",
    "def new_breed(rank, wiki):\n",
    "    doc = pq_wiki(wiki)\n",
    "    name = doc('#firstHeading').text()\n",
    "    img = doc('.infobox-image>a>img')[0].attrib['src']\n",
    "    fname = '{:0>3d}_{}'.format(rank, name.replace(' ', '_'))\n",
    "    raw = '{}{}'.format(fname, pathlib.Path(img).suffix)\n",
    "    proc = '{}.jpg'.format(fname)\n",
    "    tier = 0\n",
    "    for i, thresh in enumerate(TIER_THRESH):\n",
    "        if (rank <= thresh):\n",
    "            tier = len(TIER_THRESH) - i\n",
    "            break\n",
    "    return Breed(rank=rank, name=name, tier=tier, wiki=wiki, img=img, raw=raw, proc=proc)"
   ]
  },
  {
   "source": [
    "Read/Write breeds and raw images"
   ],
   "cell_type": "markdown",
   "metadata": {}
  },
  {
   "cell_type": "code",
   "execution_count": null,
   "metadata": {},
   "outputs": [],
   "source": [
    "import requests\n",
    "import simplejson\n",
    "\n",
    "def write_breeds(breeds):\n",
    "    f = open('breeds.json', 'w')\n",
    "    f.write(simplejson.dumps(breeds, indent=4*' '))\n",
    "    f.close()\n",
    "\n",
    "def read_breeds():\n",
    "    f = open('breeds.json', 'r')\n",
    "    breeds = [Breed(**d) for d in simplejson.loads(f.read())]\n",
    "    f.close()\n",
    "    return breeds\n",
    "\n",
    "def download_raw(breeds):\n",
    "    for breed in breeds:\n",
    "        f = open('raw/{}'.format(breed.raw), \"wb\")\n",
    "        f.write(requests.get('https:{}'.format(breed.img)).content)\n",
    "        f.close()"
   ]
  },
  {
   "cell_type": "code",
   "execution_count": null,
   "metadata": {},
   "outputs": [],
   "source": [
    "# Fetch and parse the page.\n",
    "doc = pq_wiki('/wiki/The_Intelligence_of_Dogs')\n",
    "\n",
    "# Add 1 to the index to get rank.\n",
    "# Some wierd reason [17, 130] rank is [Collie, Mastiff] which is a type of dog. Skipping.\n",
    "skip = frozenset([17, 130])\n",
    "breeds = [new_breed(i+1, a.attrib['href']) for i, a in enumerate(doc('ol>li>a')) if i+1 not in skip]\n",
    "\n",
    "# Download raw images.\n",
    "download_raw(breeds)"
   ]
  },
  {
   "cell_type": "code",
   "execution_count": null,
   "metadata": {},
   "outputs": [],
   "source": [
    "write_breeds(breeds)\n",
    "# Just testing the read.\n",
    "breeds = read_breeds()"
   ]
  },
  {
   "source": [
    "Add frame to the images"
   ],
   "cell_type": "markdown",
   "metadata": {}
  },
  {
   "cell_type": "code",
   "execution_count": null,
   "metadata": {},
   "outputs": [],
   "source": [
    "from collections import Counter\n",
    "import cv2 as cv\n",
    "import numpy as np\n",
    "import random\n",
    "import pathlib\n",
    "import shutil\n",
    "from sklearn.cluster import KMeans\n",
    "\n",
    "# Returns BGR color.\n",
    "def color(color):\n",
    "    rgb = color[1:]\n",
    "    return [int(rgb[4:6], 16), int(rgb[2:4], 16), int(rgb[:2], 16)]\n",
    "\n",
    "# Scanner Darkly: red, oranga, yellow, green, blue, violet\n",
    "PALETTE = {1: color('#912318'), 2: color('#EE5D02'), 3: color('#E5ED3C'), 4: color('#80A82E'), 5:  color('#496BBC'), 6: color('#3B3559')}\n",
    "SIZE = 500\n",
    "BORDER = 32\n",
    "\n",
    "# Read the raw image and scale to size.\n",
    "def read_breed_raw(raw, size):\n",
    "    image = cv.imread('raw/{}'.format(raw), cv.IMREAD_COLOR)\n",
    "    scale = size/max(image.shape)\n",
    "    dim = (int(image.shape[1] * scale), int(image.shape[0] * scale))\n",
    "    return cv.resize(image, dim, interpolation=cv.INTER_LANCZOS4)\n",
    "\n",
    "# Add Scanner Darkly like effect.\n",
    "def scanner_darkly(image, blur, n_clusters, ribbon):\n",
    "    # Equalize histogra for Y.\n",
    "    image = cv.cvtColor(image, cv.COLOR_BGR2YUV)\n",
    "    image[:, :, 0] = cv.equalizeHist(image[:, :, 0])\n",
    "    image = cv.cvtColor(image, cv.COLOR_YUV2BGR)\n",
    "\n",
    "    # Smooth image.\n",
    "    image = cv.GaussianBlur(image, blur, cv.BORDER_WRAP)\n",
    "    (h, w) = image.shape[:2]\n",
    "    \n",
    "    # Quantize colors.\n",
    "    image = cv.cvtColor(image, cv.COLOR_BGR2LAB)\n",
    "    image = image.reshape((image.shape[0] * image.shape[1], 3))\n",
    "    clt = KMeans(n_clusters = n_clusters)\n",
    "    labels = clt.fit_predict(image)\n",
    "    quant = clt.cluster_centers_.astype('uint8')[labels]\n",
    "\n",
    "    # Add least common color as the background.\n",
    "    hist = Counter(labels).most_common()\n",
    "    labels = np.full((SIZE, SIZE), hist[n_clusters-1][0])\n",
    "    bg = clt.cluster_centers_.astype('uint8')[labels]\n",
    "    bg = bg.reshape((SIZE, SIZE, 3))\n",
    "    bg = cv.cvtColor(bg, cv.COLOR_LAB2BGR)\n",
    "\n",
    "    # Add the frame.\n",
    "    yoff = round(w/3)\n",
    "    xoff = round(h/3)\n",
    "    bg[yoff:yoff+BORDER, 0:SIZE] = np.full((BORDER, SIZE, 3), ribbon)\n",
    "    bg[0:SIZE, xoff:xoff+BORDER] = np.full((SIZE, BORDER, 3), ribbon)\n",
    "\n",
    "    # Write quantized image.\n",
    "    quant = quant.reshape((h, w, 3))\n",
    "    quant = cv.cvtColor(quant, cv.COLOR_LAB2BGR)\n",
    "\n",
    "    yoff = round((SIZE-h)/2)\n",
    "    xoff = round((SIZE-w)/2)\n",
    "    bg[yoff:yoff+h, xoff:xoff+w] = quant\n",
    "    \n",
    "    return bg\n",
    "\n",
    "# Process all breeds.\n",
    "def proc_breeds(breeds, num):\n",
    "    shutil.rmtree('proc')\n",
    "    pathlib.Path('proc').mkdir()\n",
    "    for breed in random.sample(breeds, num):\n",
    "        image = read_breed_raw(breed.raw, 420)\n",
    "        proc = scanner_darkly(image, (5, 5), 12, PALETTE[breed.tier])\n",
    "        cv.imwrite('proc/{}'.format(breed.proc), proc)"
   ]
  },
  {
   "cell_type": "code",
   "execution_count": null,
   "metadata": {},
   "outputs": [],
   "source": [
    "proc_breeds(breeds, len(breeds))"
   ]
  },
  {
   "source": [
    "Add Logo"
   ],
   "cell_type": "markdown",
   "metadata": {}
  },
  {
   "cell_type": "code",
   "execution_count": null,
   "metadata": {},
   "outputs": [],
   "source": [
    "def create_logo():\n",
    "    doc = pq_wiki('/wiki/Paw')\n",
    "    img = doc('.thumbinner>a>img')[0].attrib['src']\n",
    "    f = open('logo/raw.jpg', \"wb\")\n",
    "    f.write(requests.get('https:{}'.format(img)).content)\n",
    "    f.close()\n",
    "    image = cv.imread('logo/raw.jpg', cv.IMREAD_COLOR)\n",
    "    scale = 420/max(image.shape)\n",
    "    dim = (int(image.shape[1] * scale), int(image.shape[0] * scale))\n",
    "    image = cv.resize(image, dim, interpolation=cv.INTER_LANCZOS4)\n",
    "    proc = scanner_darkly(image, (5, 5), 12, [0, 0, 0])\n",
    "    cv.imwrite('logo/proc.jpg', proc)\n",
    "    logo_json = {'name': 'The Intelligence of Dogs', 'wiki': '/wiki/The_Intelligence_of_Dogs', 'img': img}\n",
    "    f = open('logo/meta.json', \"w\")\n",
    "    f.write(simplejson.dumps(logo_json, indent=4*' '))\n",
    "    f.close()"
   ]
  },
  {
   "cell_type": "code",
   "execution_count": null,
   "metadata": {},
   "outputs": [],
   "source": [
    "create_logo()"
   ]
  },
  {
   "source": [
    "Add Background"
   ],
   "cell_type": "markdown",
   "metadata": {}
  },
  {
   "cell_type": "code",
   "execution_count": null,
   "metadata": {},
   "outputs": [],
   "source": [
    "def create_bg():\n",
    "    doc = pq_wiki('/wiki/A_Scanner_Darkly_(film)')\n",
    "    img = doc('.infobox-image>a>img')[0].attrib['src']\n",
    "    f = open('bg/raw.jpg', \"wb\")\n",
    "    f.write(requests.get('https:{}'.format(img)).content)\n",
    "    f.close()\n",
    "    image = cv.imread('bg/raw.jpg', cv.IMREAD_COLOR)\n",
    "    scale = 420/max(image.shape)\n",
    "    dim = (int(image.shape[1] * scale), int(image.shape[0] * scale))\n",
    "    image = cv.resize(image, dim, interpolation=cv.INTER_LANCZOS4)\n",
    "    proc = scanner_darkly(image, (5, 5), 12, [255, 255, 255])\n",
    "    cv.imwrite('bg/proc.jpg', proc)\n",
    "    logo_json = {'name': 'A Scanner Darkly (film)', 'wiki': '/wiki/A_Scanner_Darkly_(film)', 'img': img}\n",
    "    f = open('bg/meta.json', \"w\")\n",
    "    f.write(simplejson.dumps(logo_json, indent=4*' '))\n",
    "    f.close()"
   ]
  },
  {
   "cell_type": "code",
   "execution_count": null,
   "metadata": {},
   "outputs": [],
   "source": [
    "create_bg()"
   ]
  },
  {
   "source": [
    "Fetch Assets from OpenSea"
   ],
   "cell_type": "markdown",
   "metadata": {}
  },
  {
   "cell_type": "code",
   "execution_count": null,
   "metadata": {
    "tags": []
   },
   "outputs": [],
   "source": [
    "import cv2 as cv\n",
    "import pathlib\n",
    "import requests\n",
    "import shutil\n",
    "import simplejson\n",
    "\n",
    "CONTRACT = '0x495f947276749ce646f68ac8c248420045cb7b5e'\n",
    "OWNER = '0xdC58Ea900B5FE2502947eeA686C9A485D4a58684'\n",
    "\n",
    "# TODO: replace above.\n",
    "def write_json(p, data):\n",
    "    f = open(p, 'w')\n",
    "    f.write(simplejson.dumps(data, indent=4*' '))\n",
    "    f.close()\n",
    "\n",
    "# TODO: replace above.\n",
    "def write_binary(p, src):\n",
    "    f = open(p, \"wb\")\n",
    "    f.write(requests.get(src).content)\n",
    "    f.close()\n",
    "\n",
    "def download_opensea():\n",
    "    shutil.rmtree('opensea')\n",
    "    pathlib.Path('opensea').mkdir()\n",
    "\n",
    "    # Download collection json.\n",
    "    response = requests.request('GET', 'https://api.opensea.io/api/v1/collections', params={'asset_owner': OWNER})\n",
    "    j = simplejson.loads(response.text)[0]\n",
    "    write_json('opensea/{}.json'.format(j['name']), j)\n",
    "\n",
    "    # Download all assets.\n",
    "    assets = []\n",
    "    for offset in [0, 50, 100]:\n",
    "        response = requests.request('GET', 'https://api.opensea.io/api/v1/assets', params={'offset': '{}'.format(offset), 'limit': '50', 'collection': j['slug']})\n",
    "        assets.extend(simplejson.loads(response.text)['assets'])\n",
    "\n",
    "    # Downloadd images and store it along with the json.\n",
    "    # 4, 16 and 26 are all redirecting to Belgian Shephard, only minting 14.\n",
    "    # 42. and 69 both Australian Shephard, only minting 42.\n",
    "    # 17, 72and 130 Collie, Pointer, Mastiff are types, skipping.\n",
    "    skip = frozenset({16, 17, 26, 69, 72, 130})\n",
    "    missing = set(range(1, 139))\n",
    "    props = {}\n",
    "    for asset in assets:\n",
    "        rank = int([trait['value'] for trait in asset['traits'] if trait['trait_type'] == 'rank'][0])\n",
    "        desc = simplejson.loads(asset['description'].replace('```', ''))\n",
    "        assert rank == desc['rank'], 'rank mismatch'\n",
    "\n",
    "        tier = [trait['value'] for trait in asset['traits'] if trait['trait_type'] == 'tier'][0]\n",
    "        assert tier.startswith('{}'.format(desc['tier'])), '{}: tier {} does not startwith {}'.format(rank, tier, desc['tier'])\n",
    "\n",
    "        fname = '{:0>3d}_{}'.format(rank, desc['name'].replace(' ', '_'))\n",
    "        assert pathlib.Path('proc/{}.jpg'.format(fname)).is_file(), '{}: {} does not exist'.format(rank, 'proc/{}.jpg'.format(fname))\n",
    "\n",
    "        # Write asset.\n",
    "        pathlib.Path('opensea/{}'.format(fname)).mkdir()\n",
    "        write_json('opensea/{}/asset.json'.format(fname), asset)\n",
    "\n",
    "        # Write images.\n",
    "        write_binary('opensea/{}/image.jpg'.format(fname), asset['image_url'])\n",
    "        write_binary('opensea/{}/image_preview.jpg'.format(fname), asset['image_preview_url'])\n",
    "        write_binary('opensea/{}/image_thumbnail.jpg'.format(fname), asset['image_thumbnail_url'])\n",
    "\n",
    "        image = cv.imread('opensea/{}/image.jpg'.format(fname), cv.IMREAD_COLOR)\n",
    "        props[rank] = {'fname': fname, 'bgr': image[0][0].tolist()}\n",
    "        missing.remove(rank)\n",
    "\n",
    "    # Write props.\n",
    "    assert missing == skip, '{} != {}'.format(missing, skip)\n",
    "    write_json('opensea/props.json', props)"
   ]
  },
  {
   "cell_type": "code",
   "execution_count": null,
   "metadata": {
    "tags": []
   },
   "outputs": [],
   "source": [
    "download_opensea()"
   ]
  },
  {
   "source": [
    "Collage: 35 x 35 px tiles, 12 x 12 collage"
   ],
   "cell_type": "markdown",
   "metadata": {}
  },
  {
   "cell_type": "code",
   "execution_count": null,
   "metadata": {},
   "outputs": [],
   "source": [
    "from collections import Counter\n",
    "import cv2 as cv\n",
    "import math\n",
    "import numpy as np\n",
    "import simplejson\n",
    "from sklearn.cluster import KMeans\n",
    "\n",
    "TILE_SIZE = 35\n",
    "TILE_NUM = 12\n",
    "COLLAGE_SIZE = TILE_NUM * TILE_SIZE\n",
    "TOTAL = 138\n",
    "BORDER = 5\n",
    "\n",
    "def create_collage(n_clusters):\n",
    "    f = open('opensea/props.json', 'r')\n",
    "    props = simplejson.loads(f.read())\n",
    "    f.close()\n",
    "\n",
    "    # read images by rank.\n",
    "    colors = np.empty((0, 3))\n",
    "    logocolor = cv.imread('logo/proc.jpg', cv.IMREAD_COLOR)[0][0]\n",
    "    bgcolor = cv.imread('bg/proc.jpg', cv.IMREAD_COLOR)[0][0]\n",
    "    for (rank, prop) in props.items():\n",
    "        image = cv.cvtColor(np.full((1, 1, 3), np.uint8(prop['bgr'])), cv.COLOR_BGR2LAB)\n",
    "        image = image.reshape(1, 3)\n",
    "        colors = np.concatenate((colors, image))\n",
    "    colors = np.concatenate((colors, [bgcolor, logocolor]))\n",
    "    \n",
    "    clt = KMeans(n_clusters=n_clusters)\n",
    "    labels = clt.fit_predict(colors)\n",
    "    hist = Counter(labels).most_common()\n",
    "    labels = np.full((COLLAGE_SIZE, COLLAGE_SIZE), hist[n_clusters - 1][0])\n",
    "\n",
    "    # Make collage background.\n",
    "    collage = clt.cluster_centers_.astype('uint8')[labels]\n",
    "    collage = collage.reshape((COLLAGE_SIZE, COLLAGE_SIZE, 3))\n",
    "    raw = cv.cvtColor(collage, cv.COLOR_LAB2BGR)\n",
    "    bg = np.copy(raw[0][0])\n",
    "    rank = 0\n",
    "    coord = [0, 0]\n",
    "    for y in range(TILE_NUM):\n",
    "        e = (0 if y % 2 == 0 else TILE_NUM - 1)\n",
    "        d = (1 if y % 2 == 0 else -1)\n",
    "        for x in range(TILE_NUM):\n",
    "            coord = (e + x * d, y)\n",
    "            rank = rank + 1\n",
    "            if str(rank) in props:\n",
    "                prop = props[str(rank)]\n",
    "                image = np.full((TILE_SIZE, TILE_SIZE, 3), prop['bgr'])\n",
    "            else:\n",
    "                image = np.full((TILE_SIZE, TILE_SIZE, 3), bg)\n",
    "            yoff = coord[1] * TILE_SIZE\n",
    "            xoff = coord[0] * TILE_SIZE\n",
    "            raw[yoff:yoff + TILE_SIZE, xoff:xoff + TILE_SIZE] = image\n",
    "\n",
    "    image = np.full((TILE_SIZE, TILE_SIZE, 3), logocolor)\n",
    "    yoff = (TILE_NUM - 1) * TILE_SIZE\n",
    "    raw[yoff:yoff + TILE_SIZE, 0:TILE_SIZE] = image\n",
    "\n",
    "    image = np.full((TILE_SIZE, TILE_SIZE, 3), bgcolor)\n",
    "    xoff = TILE_SIZE\n",
    "    raw[yoff:yoff + TILE_SIZE, xoff:xoff + TILE_SIZE] = image\n",
    "    cv.imwrite('collage/raw.jpg', raw)\n",
    "\n",
    "    image = np.full((SIZE, SIZE, 3), bg)\n",
    "    yoff = round(COLLAGE_SIZE/3)\n",
    "    xoff = round(COLLAGE_SIZE/3)\n",
    "    for i, color in PALETTE.items():\n",
    "        # Add the frame.\n",
    "        image[yoff:yoff+BORDER, 0:SIZE] = np.full((BORDER, SIZE, 3), color)\n",
    "        image[0:SIZE, xoff:xoff+BORDER] = np.full((SIZE, BORDER, 3), color)\n",
    "        yoff += BORDER\n",
    "        xoff += BORDER\n",
    "    image[yoff:yoff+2, 0:SIZE] = np.full((2, SIZE, 3), [0, 0, 0])\n",
    "    image[0:SIZE, xoff:xoff+2] = np.full((SIZE, 2, 3), [0, 0, 0])\n",
    "    image[40:460, 40:460] = raw\n",
    "    cv.imwrite('collage/proc.jpg', image)"
   ]
  },
  {
   "cell_type": "code",
   "execution_count": null,
   "metadata": {
    "tags": []
   },
   "outputs": [],
   "source": [
    "from matplotlib import pyplot as plt\n",
    "\n",
    "create_collage(n_clusters=12)"
   ]
  },
  {
   "source": [
    "Add config json"
   ],
   "cell_type": "markdown",
   "metadata": {}
  },
  {
   "cell_type": "code",
   "execution_count": null,
   "metadata": {},
   "outputs": [],
   "source": [
    "from collections import OrderedDict\n",
    "import cv2 as cv\n",
    "import simplejson\n",
    "\n",
    "def read_json(p):\n",
    "    f = open(p, 'r')\n",
    "    j = simplejson.loads(f.read())\n",
    "    f.close()\n",
    "    return j\n",
    "\n",
    "def create_config():\n",
    "    props = read_json('opensea/props.json')\n",
    "    breeds = {breed.rank:breed for breed in read_breeds()}\n",
    "    breeds = [(breeds[int(k)], v) for k,v in props.items()]\n",
    "\n",
    "    def get_token(fname):\n",
    "        j = read_json('opensea/{}/asset.json'.format(fname))\n",
    "        return (j['id'], j['token_id'], j['name'])\n",
    "\n",
    "    tiles = [{\n",
    "        'rank': b.rank, \n",
    "        'name': b.name, \n",
    "        'tier': b.tier, \n",
    "        'wiki': b.wiki, \n",
    "        'img': b.img,\n",
    "        'id': get_token(p['fname']),\n",
    "        'fname': p['fname'], \n",
    "        'bgr': p['bgr']} for (b, p) in breeds]\n",
    "    \n",
    "    def add_tile(rank, name, tier, fname, p, color):\n",
    "        j =read_json(p)\n",
    "        tile = {\n",
    "            'rank': rank, \n",
    "            'name': name, \n",
    "            'tier': tier, \n",
    "            'wiki': j['wiki'],\n",
    "            'img': j['img'], \n",
    "            'fname': fname, \n",
    "            'bgr': color}\n",
    "        tiles.append(tile)\n",
    "    add_tile(143, 'Cover', 0, 'bg', 'bg/meta.json', cv.imread('bg/proc.jpg', cv.IMREAD_COLOR)[0][0].tolist())\n",
    "    add_tile(144, 'ScannerBarkly\\'s Stamp', 7, 'logo', 'logo/meta.json', cv.imread('logo/proc.jpg', cv.IMREAD_COLOR)[0][0].tolist())\n",
    "    tiles = sorted(tiles, key=lambda x: x['rank'])\n",
    "    collagecolor = cv.imread('collage/proc.jpg', cv.IMREAD_COLOR)[0][0].tolist() \n",
    "    colors = {'bg': collagecolor, '0': [255, 255, 255], '7': [0, 0, 0]}\n",
    "    colors.update({str(k): v for k, v in PALETTE.items()})\n",
    "    site = {'contract': CONTRACT, 'slug': 'scannerbarkly', 'tiles': tiles, 'colors': OrderedDict(sorted(colors.items()))}\n",
    "    f = open('config.json', 'w')\n",
    "    f.write(simplejson.dumps(site, indent=4*' '))\n",
    "    f.close()"
   ]
  },
  {
   "cell_type": "code",
   "execution_count": null,
   "metadata": {
    "tags": []
   },
   "outputs": [],
   "source": [
    "create_config()"
   ]
  },
  {
   "source": [
    "Add QR code"
   ],
   "cell_type": "markdown",
   "metadata": {}
  },
  {
   "cell_type": "code",
   "execution_count": 55,
   "metadata": {},
   "outputs": [
    {
     "output_type": "display_data",
     "data": {
      "text/plain": "<IPython.core.display.Javascript object>",
      "application/javascript": "\n            setTimeout(function() {\n                var nbb_cell_id = 55;\n                var nbb_unformatted_code = \"import numpy as np\\nimport qrcode\\n\\ndef write_qr(url, bg, p):\\n    qr = qrcode.QRCode(\\n        version=16,\\n        error_correction=qrcode.constants.ERROR_CORRECT_H,\\n        border=0,\\n        box_size=6,\\n    )\\n    qr.add_data(url)\\n    qr.make(fit=True)\\n    image = qr.make_image(fill_color=\\\"black\\\", back_color=\\\"white\\\")\\n    image.save(p)\\n    bg = cv.imread(bg, cv.IMREAD_COLOR)\\n    fg = np.full((SIZE, SIZE, 3), [0, 0, 0])\\n    fg[7:493, 7:493] = cv.imread(p , cv.IMREAD_COLOR)\\n    fg = np.where(fg == 0, bg, fg)\\n    cv.imwrite(p, fg)\\n    return\";\n                var nbb_formatted_code = \"import numpy as np\\nimport qrcode\\n\\n\\ndef write_qr(url, bg, p):\\n    qr = qrcode.QRCode(\\n        version=16,\\n        error_correction=qrcode.constants.ERROR_CORRECT_H,\\n        border=0,\\n        box_size=6,\\n    )\\n    qr.add_data(url)\\n    qr.make(fit=True)\\n    image = qr.make_image(fill_color=\\\"black\\\", back_color=\\\"white\\\")\\n    image.save(p)\\n    bg = cv.imread(bg, cv.IMREAD_COLOR)\\n    fg = np.full((SIZE, SIZE, 3), [0, 0, 0])\\n    fg[7:493, 7:493] = cv.imread(p, cv.IMREAD_COLOR)\\n    fg = np.where(fg == 0, bg, fg)\\n    cv.imwrite(p, fg)\\n    return\";\n                var nbb_cells = Jupyter.notebook.get_cells();\n                for (var i = 0; i < nbb_cells.length; ++i) {\n                    if (nbb_cells[i].input_prompt_number == nbb_cell_id) {\n                        if (nbb_cells[i].get_text() == nbb_unformatted_code) {\n                             nbb_cells[i].set_text(nbb_formatted_code);\n                        }\n                        break;\n                    }\n                }\n            }, 500);\n            "
     },
     "metadata": {}
    }
   ],
   "source": [
    "import numpy as np\n",
    "import qrcode\n",
    "\n",
    "def write_qr(url, bg, p):\n",
    "    qr = qrcode.QRCode(\n",
    "        version=16,\n",
    "        error_correction=qrcode.constants.ERROR_CORRECT_H,\n",
    "        border=0,\n",
    "        box_size=6,\n",
    "    )\n",
    "    qr.add_data(url)\n",
    "    qr.make(fit=True)\n",
    "    image = qr.make_image(fill_color=\"black\", back_color=\"white\")\n",
    "    image.save(p)\n",
    "    bg = cv.imread(bg, cv.IMREAD_COLOR)\n",
    "    fg = np.full((SIZE, SIZE, 3), [0, 0, 0])\n",
    "    fg[7:493, 7:493] = cv.imread(p , cv.IMREAD_COLOR)\n",
    "    fg = np.where(fg == 0, bg, fg)\n",
    "    cv.imwrite(p, fg)\n",
    "    return"
   ]
  },
  {
   "cell_type": "code",
   "execution_count": 56,
   "metadata": {},
   "outputs": [
    {
     "output_type": "display_data",
     "data": {
      "text/plain": "<IPython.core.display.Javascript object>",
      "application/javascript": "\n            setTimeout(function() {\n                var nbb_cell_id = 56;\n                var nbb_unformatted_code = \"write_qr('https://scannerbarkly.art/#/','collage/proc.jpg', 'collage/qr.jpg')\";\n                var nbb_formatted_code = \"write_qr(\\\"https://scannerbarkly.art/#/\\\", \\\"collage/proc.jpg\\\", \\\"collage/qr.jpg\\\")\";\n                var nbb_cells = Jupyter.notebook.get_cells();\n                for (var i = 0; i < nbb_cells.length; ++i) {\n                    if (nbb_cells[i].input_prompt_number == nbb_cell_id) {\n                        if (nbb_cells[i].get_text() == nbb_unformatted_code) {\n                             nbb_cells[i].set_text(nbb_formatted_code);\n                        }\n                        break;\n                    }\n                }\n            }, 500);\n            "
     },
     "metadata": {}
    }
   ],
   "source": [
    "write_qr('https://scannerbarkly.art/#/','collage/proc.jpg', 'collage/qr.jpg')"
   ]
  },
  {
   "source": [
    "Debug"
   ],
   "cell_type": "markdown",
   "metadata": {}
  },
  {
   "cell_type": "code",
   "execution_count": null,
   "metadata": {},
   "outputs": [],
   "source": [
    "from matplotlib import pyplot as plt\n",
    "import pathlib\n",
    "\n",
    "f = plt.figure(figsize=(30,180))\n",
    "for i, p in enumerate(sorted(pathlib.Path('proc').iterdir())):\n",
    "    image = cv.imread(str(p), cv.IMREAD_COLOR)\n",
    "    f.add_subplot(30, 5, i+1)\n",
    "    plt.imshow(cv.cvtColor(image, cv.COLOR_BGR2RGB))\n",
    "    plt.title(str(p))\n",
    "    plt.axis('off')\n",
    "plt.show()"
   ]
  },
  {
   "cell_type": "code",
   "execution_count": null,
   "metadata": {},
   "outputs": [],
   "source": [
    "import json\n",
    "\n",
    "def price(rank):\n",
    "    return '{:0.4f}'.format(1/rank)\n",
    "\n",
    "def pdesc(rank):\n",
    "    j = json.loads(simplejson.dumps(breeds[rank-1]))\n",
    "    del j['raw']\n",
    "    del j['proc']\n",
    "    print(j['name'])\n",
    "    print('```\\n{}\\n```'.format(simplejson.dumps(j, indent=4*' ')))\n",
    "    print(price(rank))"
   ]
  }
 ]
}